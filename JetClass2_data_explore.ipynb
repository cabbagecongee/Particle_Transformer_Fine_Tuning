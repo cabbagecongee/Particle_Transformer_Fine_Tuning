{
  "nbformat": 4,
  "nbformat_minor": 0,
  "metadata": {
    "colab": {
      "provenance": [],
      "toc_visible": true,
      "authorship_tag": "ABX9TyOswj6Bpnle8YaromC2Of2E",
      "include_colab_link": true
    },
    "kernelspec": {
      "name": "python3",
      "display_name": "Python 3"
    },
    "language_info": {
      "name": "python"
    }
  },
  "cells": [
    {
      "cell_type": "markdown",
      "metadata": {
        "id": "view-in-github",
        "colab_type": "text"
      },
      "source": [
        "<a href=\"https://colab.research.google.com/github/cabbagecongee/Particle_Transformer_Fine_Tunning/blob/main/JetClass2_data_explore.ipynb\" target=\"_parent\"><img src=\"https://colab.research.google.com/assets/colab-badge.svg\" alt=\"Open In Colab\"/></a>"
      ]
    },
    {
      "cell_type": "code",
      "execution_count": 18,
      "metadata": {
        "colab": {
          "base_uri": "https://localhost:8080/"
        },
        "id": "PjxtTqazqrW-",
        "outputId": "0f5b11f8-e02b-48ec-8ac6-d7cfed4776d4"
      },
      "outputs": [
        {
          "output_type": "stream",
          "name": "stdout",
          "text": [
            "Requirement already satisfied: weaver-core in /usr/local/lib/python3.11/dist-packages (0.4.17)\n",
            "Requirement already satisfied: numpy<2.0.0,>=1.19.5 in /usr/local/lib/python3.11/dist-packages (from weaver-core) (1.26.4)\n",
            "Requirement already satisfied: scipy>=1.5.2 in /usr/local/lib/python3.11/dist-packages (from weaver-core) (1.15.3)\n",
            "Requirement already satisfied: pandas>=1.1.3 in /usr/local/lib/python3.11/dist-packages (from weaver-core) (2.2.2)\n",
            "Requirement already satisfied: scikit-learn>=1.0.1 in /usr/local/lib/python3.11/dist-packages (from weaver-core) (1.6.1)\n",
            "Requirement already satisfied: matplotlib>=3.3.0 in /usr/local/lib/python3.11/dist-packages (from weaver-core) (3.10.0)\n",
            "Requirement already satisfied: tqdm>=4.41.0 in /usr/local/lib/python3.11/dist-packages (from weaver-core) (4.67.1)\n",
            "Requirement already satisfied: PyYAML>=5.4 in /usr/local/lib/python3.11/dist-packages (from weaver-core) (6.0.2)\n",
            "Requirement already satisfied: awkward0>=0.15.5 in /usr/local/lib/python3.11/dist-packages (from weaver-core) (0.15.5)\n",
            "Requirement already satisfied: uproot<5.2.0,>=4.2.0 in /usr/local/lib/python3.11/dist-packages (from weaver-core) (5.1.2)\n",
            "Requirement already satisfied: awkward>=1.8.0 in /usr/local/lib/python3.11/dist-packages (from weaver-core) (2.8.5)\n",
            "Requirement already satisfied: vector>=0.9.0 in /usr/local/lib/python3.11/dist-packages (from weaver-core) (1.6.3)\n",
            "Requirement already satisfied: lz4>=3.1.0 in /usr/local/lib/python3.11/dist-packages (from weaver-core) (4.4.4)\n",
            "Requirement already satisfied: xxhash>=1.4.4 in /usr/local/lib/python3.11/dist-packages (from weaver-core) (3.5.0)\n",
            "Requirement already satisfied: tables>=3.6.1 in /usr/local/lib/python3.11/dist-packages (from weaver-core) (3.10.2)\n",
            "Requirement already satisfied: tensorboard>=2.2.0 in /usr/local/lib/python3.11/dist-packages (from weaver-core) (2.18.0)\n",
            "Requirement already satisfied: awkward-cpp==47 in /usr/local/lib/python3.11/dist-packages (from awkward>=1.8.0->weaver-core) (47)\n",
            "Requirement already satisfied: fsspec>=2022.11.0 in /usr/local/lib/python3.11/dist-packages (from awkward>=1.8.0->weaver-core) (2025.3.2)\n",
            "Requirement already satisfied: importlib-metadata>=4.13.0 in /usr/local/lib/python3.11/dist-packages (from awkward>=1.8.0->weaver-core) (8.7.0)\n",
            "Requirement already satisfied: packaging in /usr/local/lib/python3.11/dist-packages (from awkward>=1.8.0->weaver-core) (24.2)\n",
            "Requirement already satisfied: contourpy>=1.0.1 in /usr/local/lib/python3.11/dist-packages (from matplotlib>=3.3.0->weaver-core) (1.3.2)\n",
            "Requirement already satisfied: cycler>=0.10 in /usr/local/lib/python3.11/dist-packages (from matplotlib>=3.3.0->weaver-core) (0.12.1)\n",
            "Requirement already satisfied: fonttools>=4.22.0 in /usr/local/lib/python3.11/dist-packages (from matplotlib>=3.3.0->weaver-core) (4.58.5)\n",
            "Requirement already satisfied: kiwisolver>=1.3.1 in /usr/local/lib/python3.11/dist-packages (from matplotlib>=3.3.0->weaver-core) (1.4.8)\n",
            "Requirement already satisfied: pillow>=8 in /usr/local/lib/python3.11/dist-packages (from matplotlib>=3.3.0->weaver-core) (11.2.1)\n",
            "Requirement already satisfied: pyparsing>=2.3.1 in /usr/local/lib/python3.11/dist-packages (from matplotlib>=3.3.0->weaver-core) (3.2.3)\n",
            "Requirement already satisfied: python-dateutil>=2.7 in /usr/local/lib/python3.11/dist-packages (from matplotlib>=3.3.0->weaver-core) (2.9.0.post0)\n",
            "Requirement already satisfied: pytz>=2020.1 in /usr/local/lib/python3.11/dist-packages (from pandas>=1.1.3->weaver-core) (2025.2)\n",
            "Requirement already satisfied: tzdata>=2022.7 in /usr/local/lib/python3.11/dist-packages (from pandas>=1.1.3->weaver-core) (2025.2)\n",
            "Requirement already satisfied: joblib>=1.2.0 in /usr/local/lib/python3.11/dist-packages (from scikit-learn>=1.0.1->weaver-core) (1.5.1)\n",
            "Requirement already satisfied: threadpoolctl>=3.1.0 in /usr/local/lib/python3.11/dist-packages (from scikit-learn>=1.0.1->weaver-core) (3.6.0)\n",
            "Requirement already satisfied: numexpr>=2.6.2 in /usr/local/lib/python3.11/dist-packages (from tables>=3.6.1->weaver-core) (2.11.0)\n",
            "Requirement already satisfied: py-cpuinfo in /usr/local/lib/python3.11/dist-packages (from tables>=3.6.1->weaver-core) (9.0.0)\n",
            "Requirement already satisfied: blosc2>=2.3.0 in /usr/local/lib/python3.11/dist-packages (from tables>=3.6.1->weaver-core) (3.5.1)\n",
            "Requirement already satisfied: typing-extensions>=4.4.0 in /usr/local/lib/python3.11/dist-packages (from tables>=3.6.1->weaver-core) (4.14.1)\n",
            "Requirement already satisfied: absl-py>=0.4 in /usr/local/lib/python3.11/dist-packages (from tensorboard>=2.2.0->weaver-core) (1.4.0)\n",
            "Requirement already satisfied: grpcio>=1.48.2 in /usr/local/lib/python3.11/dist-packages (from tensorboard>=2.2.0->weaver-core) (1.73.1)\n",
            "Requirement already satisfied: markdown>=2.6.8 in /usr/local/lib/python3.11/dist-packages (from tensorboard>=2.2.0->weaver-core) (3.8.2)\n",
            "Requirement already satisfied: protobuf!=4.24.0,>=3.19.6 in /usr/local/lib/python3.11/dist-packages (from tensorboard>=2.2.0->weaver-core) (5.29.5)\n",
            "Requirement already satisfied: setuptools>=41.0.0 in /usr/local/lib/python3.11/dist-packages (from tensorboard>=2.2.0->weaver-core) (75.2.0)\n",
            "Requirement already satisfied: six>1.9 in /usr/local/lib/python3.11/dist-packages (from tensorboard>=2.2.0->weaver-core) (1.17.0)\n",
            "Requirement already satisfied: tensorboard-data-server<0.8.0,>=0.7.0 in /usr/local/lib/python3.11/dist-packages (from tensorboard>=2.2.0->weaver-core) (0.7.2)\n",
            "Requirement already satisfied: werkzeug>=1.0.1 in /usr/local/lib/python3.11/dist-packages (from tensorboard>=2.2.0->weaver-core) (3.1.3)\n",
            "Requirement already satisfied: ndindex in /usr/local/lib/python3.11/dist-packages (from blosc2>=2.3.0->tables>=3.6.1->weaver-core) (1.10.0)\n",
            "Requirement already satisfied: msgpack in /usr/local/lib/python3.11/dist-packages (from blosc2>=2.3.0->tables>=3.6.1->weaver-core) (1.1.1)\n",
            "Requirement already satisfied: platformdirs in /usr/local/lib/python3.11/dist-packages (from blosc2>=2.3.0->tables>=3.6.1->weaver-core) (4.3.8)\n",
            "Requirement already satisfied: requests in /usr/local/lib/python3.11/dist-packages (from blosc2>=2.3.0->tables>=3.6.1->weaver-core) (2.32.3)\n",
            "Requirement already satisfied: zipp>=3.20 in /usr/local/lib/python3.11/dist-packages (from importlib-metadata>=4.13.0->awkward>=1.8.0->weaver-core) (3.23.0)\n",
            "Requirement already satisfied: MarkupSafe>=2.1.1 in /usr/local/lib/python3.11/dist-packages (from werkzeug>=1.0.1->tensorboard>=2.2.0->weaver-core) (3.0.2)\n",
            "Requirement already satisfied: charset-normalizer<4,>=2 in /usr/local/lib/python3.11/dist-packages (from requests->blosc2>=2.3.0->tables>=3.6.1->weaver-core) (3.4.2)\n",
            "Requirement already satisfied: idna<4,>=2.5 in /usr/local/lib/python3.11/dist-packages (from requests->blosc2>=2.3.0->tables>=3.6.1->weaver-core) (3.10)\n",
            "Requirement already satisfied: urllib3<3,>=1.21.1 in /usr/local/lib/python3.11/dist-packages (from requests->blosc2>=2.3.0->tables>=3.6.1->weaver-core) (2.4.0)\n",
            "Requirement already satisfied: certifi>=2017.4.17 in /usr/local/lib/python3.11/dist-packages (from requests->blosc2>=2.3.0->tables>=3.6.1->weaver-core) (2025.7.14)\n",
            "Requirement already satisfied: onnxruntime in /usr/local/lib/python3.11/dist-packages (1.22.1)\n",
            "Requirement already satisfied: coloredlogs in /usr/local/lib/python3.11/dist-packages (from onnxruntime) (15.0.1)\n",
            "Requirement already satisfied: flatbuffers in /usr/local/lib/python3.11/dist-packages (from onnxruntime) (25.2.10)\n",
            "Requirement already satisfied: numpy>=1.21.6 in /usr/local/lib/python3.11/dist-packages (from onnxruntime) (1.26.4)\n",
            "Requirement already satisfied: packaging in /usr/local/lib/python3.11/dist-packages (from onnxruntime) (24.2)\n",
            "Requirement already satisfied: protobuf in /usr/local/lib/python3.11/dist-packages (from onnxruntime) (5.29.5)\n",
            "Requirement already satisfied: sympy in /usr/local/lib/python3.11/dist-packages (from onnxruntime) (1.13.1)\n",
            "Requirement already satisfied: humanfriendly>=9.1 in /usr/local/lib/python3.11/dist-packages (from coloredlogs->onnxruntime) (10.0)\n",
            "Requirement already satisfied: mpmath<1.4,>=1.1.0 in /usr/local/lib/python3.11/dist-packages (from sympy->onnxruntime) (1.3.0)\n"
          ]
        }
      ],
      "source": [
        "!pip install weaver-core\n",
        "!pip install onnxruntime\n",
        "\n"
      ]
    },
    {
      "cell_type": "code",
      "source": [
        "! wget --no-verbose https://github.com/jet-universe/sophon/raw/main/notebooks/JetClassII_example.parquet"
      ],
      "metadata": {
        "colab": {
          "base_uri": "https://localhost:8080/"
        },
        "id": "UzIqz8DzQfp-",
        "outputId": "507f8b4e-250f-4dd3-8aa1-608df6cf2651"
      },
      "execution_count": 19,
      "outputs": [
        {
          "output_type": "stream",
          "name": "stdout",
          "text": [
            "2025-07-17 18:16:24 URL:https://raw.githubusercontent.com/jet-universe/sophon/main/notebooks/JetClassII_example.parquet [447746/447746] -> \"JetClassII_example.parquet.1\" [1]\n"
          ]
        }
      ]
    },
    {
      "cell_type": "code",
      "source": [
        "import awkward as ak\n",
        "from typing import List, Tuple, Dict\n",
        "import numpy as np\n",
        "\n",
        "arrays = ak.from_parquet(\"JetClassII_example.parquet\")\n",
        "arrays"
      ],
      "metadata": {
        "colab": {
          "base_uri": "https://localhost:8080/",
          "height": 642
        },
        "id": "kxGweFoTQ0tr",
        "outputId": "3d8beed4-6dd2-4627-e984-e8d6509234c8"
      },
      "execution_count": 20,
      "outputs": [
        {
          "output_type": "execute_result",
          "data": {
            "text/html": [
              "<pre>[{part_px: [-202, -140, ..., -0.491], part_py: [29, ...], part_pz: [...], ...},\n",
              " {part_px: [34, 21.7, ..., 0.491, 0.405], part_py: [...], part_pz: [...], ...},\n",
              " {part_px: [-99.6, -17.8, ..., -0.48], part_py: [-27.3, ...], ...},\n",
              " {part_px: [-17.1, -17.5, ..., -0.109], part_py: [-58.8, ...], ...},\n",
              " {part_px: [-19.8, -11.1, ..., 0.0862], part_py: [39.2, ...], ...},\n",
              " {part_px: [70.2, 22.7], part_py: [-930, -402], part_pz: [...], ...},\n",
              " {part_px: [-94.3, -19.9, ..., -0.501], part_py: [-84.1, ...], ...},\n",
              " {part_px: [78.5, 29.4, ..., 0.318, 0.285], part_py: [...], part_pz: ..., ...},\n",
              " {part_px: [-525, -330, ..., -1.53, -1.42], part_py: [...], part_pz: ..., ...},\n",
              " {part_px: [105, 82.9, ..., 0.656, 0.554], part_py: [67.5, ...], ...},\n",
              " ...,\n",
              " {part_px: [-48.4, -28.4, ..., -0.761], part_py: [-162, ...], ...},\n",
              " {part_px: [40.2, 40.7, ..., 0.123, 0.317], part_py: [...], part_pz: ..., ...},\n",
              " {part_px: [-27.4, -33.1, ..., -0.134], part_py: [51.8, ...], ...},\n",
              " {part_px: [-36, -21.6, ..., -0.438], part_py: [-67.8, ...], part_pz: ..., ...},\n",
              " {part_px: [23.6, 21.2, ..., 0.422, 0.702], part_py: [...], part_pz: ..., ...},\n",
              " {part_px: [-264, -25.3, ..., -0.126], part_py: [-830, ...], part_pz: ..., ...},\n",
              " {part_px: [513, 274, ..., 0.901, 0.853], part_py: [-173, ...], ...},\n",
              " {part_px: [187, 37.9, ..., 0.904, 0.401], part_py: [44.1, ...], ...},\n",
              " {part_px: [-40.7, -36.8, ..., -0.188], part_py: [-134, ...], ...}]\n",
              "--------------------------------------------------------------------------------\n",
              "backend: cpu\n",
              "nbytes: 572.3 kB\n",
              "type: 100 * {\n",
              "    part_px: var * float32,\n",
              "    part_py: var * float32,\n",
              "    part_pz: var * float32,\n",
              "    part_energy: var * float32,\n",
              "    part_deta: var * float32,\n",
              "    part_dphi: var * float32,\n",
              "    part_d0val: var * float32,\n",
              "    part_d0err: var * float32,\n",
              "    part_dzval: var * float32,\n",
              "    part_dzerr: var * float32,\n",
              "    ...\n",
              "}</pre>"
            ],
            "text/plain": [
              "<Array [{part_px: [...], ...}, ..., {...}] type='100 * {part_px: var * floa...'>"
            ]
          },
          "metadata": {},
          "execution_count": 20
        }
      ]
    },
    {
      "cell_type": "markdown",
      "source": [
        "Each jet entry includes\n",
        "1. `jet_*` jet level features\n",
        "2. `part_*` jet constituent features\n",
        "3. `genjet_*` matched GEN-jet features. only filled in if the jet was matched to a GEN-jet during simulation\n",
        "4. `genpart_*` GEN-jet constituent features.\n",
        "5. `aux_genpart_*` selected truth level particles\n",
        "\n",
        "Basic layout from what I know so far:\n",
        "* arrays -> shape: (n_jets, )\n",
        "\n",
        "each element in arrays is a jet, and that jet has mutiple fields\n",
        "* `arrays[\"jet_pt\"][0]` scalar: pt of jet 0\n",
        "* `arrays[\"part_px][0]` list: px of jet 0's particles\n",
        "* `arrays[\"aux_genpart_pid\"][0]` list: truth particles for jet 0\n",
        "\n"
      ],
      "metadata": {
        "id": "H6RufN0ASEDK"
      }
    },
    {
      "cell_type": "code",
      "source": [
        "print(arrays.fields)"
      ],
      "metadata": {
        "colab": {
          "base_uri": "https://localhost:8080/"
        },
        "id": "qcrmlrSbS6Xa",
        "outputId": "54362909-3f7e-4679-c286-f31045928f68"
      },
      "execution_count": 21,
      "outputs": [
        {
          "output_type": "stream",
          "name": "stdout",
          "text": [
            "['part_px', 'part_py', 'part_pz', 'part_energy', 'part_deta', 'part_dphi', 'part_d0val', 'part_d0err', 'part_dzval', 'part_dzerr', 'part_charge', 'part_isElectron', 'part_isMuon', 'part_isPhoton', 'part_isChargedHadron', 'part_isNeutralHadron', 'jet_pt', 'jet_eta', 'jet_phi', 'jet_energy', 'jet_sdmass', 'jet_nparticles', 'jet_tau1', 'jet_tau2', 'jet_tau3', 'jet_tau4', 'jet_label', 'genpart_px', 'genpart_py', 'genpart_pz', 'genpart_energy', 'genpart_jet_deta', 'genpart_jet_dphi', 'genpart_x', 'genpart_y', 'genpart_z', 'genpart_t', 'genpart_pid', 'genjet_pt', 'genjet_eta', 'genjet_phi', 'genjet_energy', 'genjet_sdmass', 'genjet_nparticles', 'aux_genpart_pt', 'aux_genpart_eta', 'aux_genpart_phi', 'aux_genpart_mass', 'aux_genpart_pid', 'aux_genpart_isResX', 'aux_genpart_isResY', 'aux_genpart_isResDecayProd', 'aux_genpart_isTauDecayProd', 'aux_genpart_isQcdParton']\n"
          ]
        }
      ]
    },
    {
      "cell_type": "code",
      "source": [
        "print(f'jet level features: {arrays[\"jet_pt\"]}') #each index gives the scalar value for one jet, shape (n_jets, )\n",
        "\n",
        "#constituent level features\n",
        "print(f' constitutent level features: {arrays[\"part_px\"]}') #shape (n_jets, n_particles_per_jet)\n",
        "arrays[\"part_isElectron\"][0]"
      ],
      "metadata": {
        "colab": {
          "base_uri": "https://localhost:8080/",
          "height": 469
        },
        "id": "Y2Uk1kx2VxqJ",
        "outputId": "0d732626-b9de-464c-94c8-71b4fad3df98"
      },
      "execution_count": 22,
      "outputs": [
        {
          "output_type": "stream",
          "name": "stdout",
          "text": [
            "jet level features: [717, 258, 210, 290, 202, 1.34e+03, ..., 518, 499, 1.29e+03, 1.64e+03, 385, 450]\n",
            " constitutent level features: [[-202, -140, -76.9, -49.3, -44.9, ..., -0.866, -0.597, -0.563, -0.491], ...]\n"
          ]
        },
        {
          "output_type": "execute_result",
          "data": {
            "text/html": [
              "<pre>[True,\n",
              " True,\n",
              " False,\n",
              " False,\n",
              " False,\n",
              " False,\n",
              " False,\n",
              " False,\n",
              " False,\n",
              " False,\n",
              " ...,\n",
              " False,\n",
              " False,\n",
              " False,\n",
              " False,\n",
              " False,\n",
              " False,\n",
              " False,\n",
              " False,\n",
              " False]\n",
              "-------\n",
              "backend: cpu\n",
              "nbytes: 42 B\n",
              "type: 42 * bool</pre>"
            ],
            "text/plain": [
              "<Array [True, True, False, False, ..., False, False, False] type='42 * bool'>"
            ]
          },
          "metadata": {},
          "execution_count": 22
        }
      ]
    },
    {
      "cell_type": "markdown",
      "source": [
        "The goal is to:\n",
        "1. Extract each jet's constitutents (`part_*`) and format it as a tensor input for the Particle Transformer.\n",
        "2. Extract each jet's high level features (`jet_*`)\n",
        "3. Format everything properly for later integration into the full architecture."
      ],
      "metadata": {
        "id": "WfIbev4bYAUs"
      }
    },
    {
      "cell_type": "code",
      "source": [
        "import torch\n",
        "def extract_constituents(jet, keys: List):\n",
        "  feats = []\n",
        "  for k in keys:\n",
        "    data = jet[k]\n",
        "    if isinstance(data[0], (bool, np.bool_)):\n",
        "      data = np.array(data, dtype = np.float32)\n",
        "    feats.append(data)\n",
        "    return torch.tensor(np.stack(feats, axis=1), dtype=torch.float32)"
      ],
      "metadata": {
        "id": "UcntYkDGYydY"
      },
      "execution_count": 30,
      "outputs": []
    },
    {
      "cell_type": "code",
      "source": [
        "constituent_keys = [\n",
        "    \"part_px\", \"part_py\", \"part_pz\", \"part_energy\",\n",
        "    \"part_deta\", \"part_dphi\",\n",
        "    \"part_d0val\", \"part_d0err\", \"part_dzval\", \"part_dzerr\",\n",
        "    \"part_charge\",\n",
        "    \"part_isElectron\", \"part_isMuon\", \"part_isPhoton\",\n",
        "    \"part_isChargedHadron\", \"part_isNeutralHadron\"\n",
        "]\n",
        "\n",
        "hlf_keys = [\"jet_pt\", \"jet_eta\", \"jet_phi\", \"jet_energy\", \"jet_sdmass\"]\n",
        "label_key = \"jet_label\""
      ],
      "metadata": {
        "id": "mR926fbdX_0h"
      },
      "execution_count": 38,
      "outputs": []
    },
    {
      "cell_type": "code",
      "source": [
        "jet = arrays[0]\n",
        "jet_constituents = extract_constituents(jet, constituent_keys)\n",
        "jet_constituents"
      ],
      "metadata": {
        "colab": {
          "base_uri": "https://localhost:8080/"
        },
        "id": "OLqoHhnemaA4",
        "outputId": "4b2b7e69-2378-400b-8a50-02d92cc1a625"
      },
      "execution_count": 32,
      "outputs": [
        {
          "output_type": "execute_result",
          "data": {
            "text/plain": [
              "tensor([[-202.0545],\n",
              "        [-140.0157],\n",
              "        [ -76.9225],\n",
              "        [ -49.3323],\n",
              "        [ -44.9454],\n",
              "        [ -42.0783],\n",
              "        [ -34.7558],\n",
              "        [ -21.3512],\n",
              "        [ -11.2199],\n",
              "        [ -11.4482],\n",
              "        [  -8.7899],\n",
              "        [  -7.8863],\n",
              "        [  -6.3248],\n",
              "        [  -5.8400],\n",
              "        [  -4.5917],\n",
              "        [  -3.3347],\n",
              "        [  -3.8522],\n",
              "        [  -3.2000],\n",
              "        [  -2.1997],\n",
              "        [  -2.5759],\n",
              "        [  -2.4835],\n",
              "        [  -2.4848],\n",
              "        [  -2.2239],\n",
              "        [  -2.2774],\n",
              "        [  -2.2122],\n",
              "        [  -2.0639],\n",
              "        [  -1.6403],\n",
              "        [  -1.6803],\n",
              "        [  -1.5309],\n",
              "        [  -1.3263],\n",
              "        [  -1.3407],\n",
              "        [  -0.9704],\n",
              "        [  -0.8136],\n",
              "        [  -1.0400],\n",
              "        [  -1.0182],\n",
              "        [  -0.9781],\n",
              "        [  -0.9044],\n",
              "        [  -0.8993],\n",
              "        [  -0.8657],\n",
              "        [  -0.5966],\n",
              "        [  -0.5629],\n",
              "        [  -0.4911]])"
            ]
          },
          "metadata": {},
          "execution_count": 32
        }
      ]
    },
    {
      "cell_type": "code",
      "source": [
        "def extract_hlfs(jet, keys):\n",
        "  feats = []\n",
        "  for k in keys:\n",
        "    data = jet[k]\n",
        "    feats.append(torch.tensor(data, dtype=torch.float32))\n",
        "  return torch.stack(feats, dim=0)"
      ],
      "metadata": {
        "id": "99dX7N7cnhv-"
      },
      "execution_count": 36,
      "outputs": []
    },
    {
      "cell_type": "code",
      "source": [
        "extract_hlfs(jet, hlf_keys)"
      ],
      "metadata": {
        "colab": {
          "base_uri": "https://localhost:8080/"
        },
        "id": "YSyfUpOMnzgb",
        "outputId": "3e8f1225-eada-4351-9808-3116e3381b0a"
      },
      "execution_count": 39,
      "outputs": [
        {
          "output_type": "execute_result",
          "data": {
            "text/plain": [
              "tensor([ 7.1733e+02, -4.4632e-01, -3.0333e+00,  8.3698e+02,  2.7475e+02])"
            ]
          },
          "metadata": {},
          "execution_count": 39
        }
      ]
    }
  ]
}